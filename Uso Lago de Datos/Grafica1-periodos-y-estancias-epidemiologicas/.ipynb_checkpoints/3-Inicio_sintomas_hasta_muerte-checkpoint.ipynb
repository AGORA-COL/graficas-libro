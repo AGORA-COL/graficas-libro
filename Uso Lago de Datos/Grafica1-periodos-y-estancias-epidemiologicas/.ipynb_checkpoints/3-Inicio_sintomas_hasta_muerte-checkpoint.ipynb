{
 "cells": [
  {
   "cell_type": "code",
   "execution_count": null,
   "id": "03eceb16",
   "metadata": {},
   "outputs": [],
   "source": [
    "import pandas as pd\n",
    "import matplotlib.pyplot as plt\n",
    "import seaborn as sns\n",
    "import numpy as np"
   ]
  },
  {
   "cell_type": "markdown",
   "id": "4409f154",
   "metadata": {},
   "source": [
    "## Cargar base SIVIGILA346"
   ]
  },
  {
   "cell_type": "code",
   "execution_count": null,
   "id": "3243136e",
   "metadata": {},
   "outputs": [],
   "source": [
    "df_sivigila346 = pd.read_csv(\"../Github/dl-covid19-descriptive-reports/MinSalud/sivigila346/data/ExtraccionEv346.txt\",\n",
    "                             low_memory=False,\n",
    "                             on_bad_lines='skip',\n",
    "                             sep='|',\n",
    "                             usecols = ['PersonaBasicaID',\n",
    "                                        'FechaNotificacion',\n",
    "                                        'FechaInicioSintomas', \n",
    "                                        'FechaDefuncion', \n",
    "                                        'DepartamentoNotificacion'])\n",
    "\n",
    "print('Número filas y columnas: ', df_sivigila346.shape)"
   ]
  },
  {
   "cell_type": "code",
   "execution_count": null,
   "id": "0a28bfb0",
   "metadata": {},
   "outputs": [],
   "source": [
    "# Eliminar registros basura (son 2)\n",
    "df_sivigila346 = df_sivigila346.dropna(subset=['FechaInicioSintomas'])\n",
    "print('Número filas y columnas: ', df_sivigila346.shape)"
   ]
  },
  {
   "cell_type": "markdown",
   "id": "5611a3cb",
   "metadata": {},
   "source": [
    "## Análisis para Bogotá"
   ]
  },
  {
   "cell_type": "code",
   "execution_count": null,
   "id": "34643832",
   "metadata": {},
   "outputs": [],
   "source": [
    "# Seleccionar los datos de Bogotá\n",
    "df_bog = df_sivigila346[df_sivigila346['DepartamentoNotificacion'] == 'Bogotá, D.C.'].copy()"
   ]
  },
  {
   "cell_type": "code",
   "execution_count": null,
   "id": "dc8b5662",
   "metadata": {},
   "outputs": [],
   "source": [
    "# Convertir las fechas a formato 'datetime'\n",
    "df_bog['FechaInicioSintomas'] = pd.to_datetime(df_bog['FechaInicioSintomas'].astype(int), format='%Y%m%d')\n",
    "df_bog['FechaDefuncion'] = pd.to_datetime(df_bog['FechaDefuncion'].astype(int), format='%Y%m%d')\n",
    "df_bog['FechaNotificacion'] = pd.to_datetime(df_bog['FechaNotificacion'].astype(int), format='%Y%m%d')"
   ]
  },
  {
   "cell_type": "code",
   "execution_count": null,
   "id": "9a95ecee",
   "metadata": {},
   "outputs": [],
   "source": [
    "# Eliminar fechas de defunción erróneas\n",
    "# Al mismo tiempo, se selecciona la gente que fallecio\n",
    "df_bog = df_bog[df_bog['FechaDefuncion'] != '19000101']"
   ]
  },
  {
   "cell_type": "code",
   "execution_count": null,
   "id": "2a1acd27",
   "metadata": {},
   "outputs": [],
   "source": [
    "# ============================================\n",
    "# Descartar los casos donde el ID es igual a 1\n",
    "# ============================================\n",
    "df_bog = df_bog[df_bog['PersonaBasicaID'] != '1']"
   ]
  },
  {
   "cell_type": "code",
   "execution_count": null,
   "id": "b8a04930",
   "metadata": {},
   "outputs": [],
   "source": [
    "# Cálculo de 'onset_death' en días\n",
    "df_bog['Onset_death'] = (df_bog['FechaDefuncion'] - df_bog['FechaInicioSintomas']).dt.days\n",
    "df_bog.head()"
   ]
  },
  {
   "cell_type": "code",
   "execution_count": null,
   "id": "e80d3e5c",
   "metadata": {},
   "outputs": [],
   "source": [
    "# Definir olas COVID-19 (obtenidas de: https://github.com/TRACE-LAC/covid19-waves-bogota/blob/main/waves/outputs/waves.csv)\n",
    "waves = {\n",
    "    'Wave 1': ('2020-02-26', '2020-09-25'),\n",
    "    'Wave 2': ('2020-11-01', '2021-03-01'),\n",
    "    'Wave 3': ('2021-03-01', '2021-09-14'),\n",
    "    'Wave 4': ('2021-11-20', '2022-03-24')\n",
    "}\n",
    "\n",
    "# Calcular promedio de 'Onset_death' por olas\n",
    "promedios = []\n",
    "for nombre, (inicio, fin) in waves.items():\n",
    "    filtro = (df_bog['FechaNotificacion'] >= inicio) & (df_bog['FechaNotificacion'] <= fin)\n",
    "    promedio = df_bog.loc[filtro, 'Onset_death'].mean()\n",
    "    promedios.append(promedio)\n",
    "    print(nombre)\n",
    "    print('Promedio: ', promedio)\n",
    "    print(\"# Registros: \", len(df_bog.loc[filtro, 'Onset_death']))\n",
    "    print(\"\")"
   ]
  },
  {
   "cell_type": "code",
   "execution_count": null,
   "id": "31fd44b9",
   "metadata": {},
   "outputs": [],
   "source": [
    "# Grafica \n",
    "plt.figure(figsize=(4, 5))\n",
    "plt.bar(waves.keys(), promedios, color=['#6b6ca3', '#87bcbd', '#6f9954', '#b1615c'], width=1.0)\n",
    "# plt.xlabel('COVID-19 waves')\n",
    "plt.ylabel('Avg value of delay time (Days)', fontsize=14)\n",
    "plt.title('Onset to death Bogotá')\n",
    "plt.yticks([0, 2.5, 5.0, 7.5, 10.0, 12.5, 15.0, 17.5, 20.0, 22.5, 25])\n",
    "\n",
    "for i, promedio in enumerate(promedios):\n",
    "    plt.text(i, promedio + 0.2, f'{promedio:.2f}', ha='center', fontsize=9)\n",
    "\n",
    "plt.show()"
   ]
  },
  {
   "cell_type": "markdown",
   "id": "38946357",
   "metadata": {},
   "source": [
    "## Análisis Nacional"
   ]
  },
  {
   "cell_type": "code",
   "execution_count": null,
   "id": "d6ce231f",
   "metadata": {},
   "outputs": [],
   "source": [
    "# Seleccionar los datos Colombia\n",
    "df_col = df_sivigila346.copy()"
   ]
  },
  {
   "cell_type": "code",
   "execution_count": null,
   "id": "cd47e060",
   "metadata": {},
   "outputs": [],
   "source": [
    "# Convertir las fechas a formato 'datetime'\n",
    "df_col['FechaInicioSintomas'] = pd.to_datetime(df_col['FechaInicioSintomas'].astype(int), format='%Y%m%d')\n",
    "df_col['FechaDefuncion'] = pd.to_datetime(df_col['FechaDefuncion'].astype(int), format='%Y%m%d')\n",
    "df_col['FechaNotificacion'] = pd.to_datetime(df_col['FechaNotificacion'].astype(int), format='%Y%m%d')"
   ]
  },
  {
   "cell_type": "code",
   "execution_count": null,
   "id": "86b468d9",
   "metadata": {},
   "outputs": [],
   "source": [
    "# Eliminar fechas de defunción erróneas\n",
    "df_col = df_col[df_col['FechaDefuncion'] != '19000101']"
   ]
  },
  {
   "cell_type": "code",
   "execution_count": null,
   "id": "c09bdb87",
   "metadata": {},
   "outputs": [],
   "source": [
    "# ============================================\n",
    "# Descartar los casos donde el ID es igual a 1\n",
    "# ============================================\n",
    "df_col = df_col[df_col['PersonaBasicaID'] != '1']"
   ]
  },
  {
   "cell_type": "code",
   "execution_count": null,
   "id": "3760b5e5",
   "metadata": {},
   "outputs": [],
   "source": [
    "# Cálculo de 'Onset_death' en días\n",
    "df_col['Onset_death'] = (df_col['FechaDefuncion'] - df_col['FechaInicioSintomas']).dt.days\n",
    "df_col.head()"
   ]
  },
  {
   "cell_type": "code",
   "execution_count": null,
   "id": "73530ba3",
   "metadata": {},
   "outputs": [],
   "source": [
    "# Definir olas COVID-19 (obtenidas de: https://github.com/TRACE-LAC/covid19-waves-bogota/blob/main/waves/outputs/waves.csv)\n",
    "waves = {\n",
    "    'Ola 1': ('2020-02-26', '2020-09-25'),\n",
    "    'Ola 2': ('2020-11-01', '2021-03-01'),\n",
    "    'Ola 3': ('2021-03-01', '2021-09-14'),\n",
    "    'Ola 4': ('2021-11-20', '2022-03-24')\n",
    "}\n",
    "\n",
    "# Calcular promedio de 'Onset_death' por olas\n",
    "promedios = []\n",
    "for nombre, (inicio, fin) in waves.items():\n",
    "    filtro = (df_col['FechaNotificacion'] >= inicio) & (df_col['FechaNotificacion'] <= fin)\n",
    "    promedio = df_col.loc[filtro, 'Onset_death'].mean()\n",
    "    promedios.append(promedio)\n",
    "    print(nombre)\n",
    "    print('Promedio: ', promedio)\n",
    "    print(\"# Registros: \", len(df_col.loc[filtro, 'Onset_death']))\n",
    "    print(\"\")"
   ]
  },
  {
   "cell_type": "code",
   "execution_count": null,
   "id": "bb059b1f",
   "metadata": {},
   "outputs": [],
   "source": [
    "# Grafica \n",
    "plt.figure(figsize=(6, 4))\n",
    "plt.bar(waves.keys(), promedios, color=['#6a5acd', '#66c2a5', '#4daf4a', '#d95f02'], width=0.7, zorder=3)\n",
    "# plt.xlabel('COVID-19 waves')\n",
    "plt.ylabel('Promedio (días)', fontsize=12)\n",
    "plt.title('Inicio de síntomas hasta fallecimiento', fontsize=14)\n",
    "plt.yticks([0, 5, 10, 15, 20, 25], fontsize=10)\n",
    "\n",
    "for i, promedio in enumerate(promedios):\n",
    "    plt.text(i, promedio + 0.2, f'{promedio:.1f}', ha='center', fontsize=10)\n",
    "\n",
    "plt.grid(True, linestyle='--', alpha=0.6, zorder=0)\n",
    "plt.show()"
   ]
  },
  {
   "cell_type": "code",
   "execution_count": null,
   "id": "7c4ad85c",
   "metadata": {},
   "outputs": [],
   "source": [
    "for nombre, (inicio, fin) in waves.items():\n",
    "    filtro = (df_col['FechaNotificacion'] >= inicio) & (df_col['FechaNotificacion'] <= fin)\n",
    "    print(nombre, \": \", len(df_col.loc[filtro, 'Onset_death']))\n",
    "#     print(df_col[filtro])"
   ]
  },
  {
   "cell_type": "markdown",
   "id": "6063e780",
   "metadata": {},
   "source": [
    "---\n",
    "---\n",
    "---\n",
    "## Análisis para todos los departamentos"
   ]
  },
  {
   "cell_type": "code",
   "execution_count": null,
   "id": "e22bfb53",
   "metadata": {},
   "outputs": [],
   "source": [
    "df_sivigila346_v2 = df_sivigila346[df_sivigila346['DepartamentoNotificacion'] != 'NO REPORTADO'].copy()"
   ]
  },
  {
   "cell_type": "code",
   "execution_count": null,
   "id": "f0132c91",
   "metadata": {},
   "outputs": [],
   "source": [
    "# https://dgn.isolutions.iso.org/obp/ui#iso:code:3166:CO\n",
    "df_sivigila346_v2['DepartamentoNotificacion'].replace({'Bogotá, D.C.': 'DC', \n",
    "                                                       'Antioquia': 'ANT', \n",
    "                                                       'Valle del Cauca': 'VAC', \n",
    "                                                       'Cundinamarca': 'CUN', \n",
    "                                                       'Santander': 'SAN', \n",
    "                                                       'Atlántico': 'ATL', \n",
    "                                                       'Boyacá': 'BOY', \n",
    "                                                       'Norte de Santander': 'NSA', \n",
    "                                                       'Córdoba': 'COR', \n",
    "                                                       'Tolima': 'TOL', \n",
    "                                                       'Caldas': 'CAL', \n",
    "                                                       'Cesar': 'CES', \n",
    "                                                       'Meta': 'MET', \n",
    "                                                       'Risaralda': 'RIS', \n",
    "                                                       'Huila': 'HUI', \n",
    "                                                       'Bolívar': 'BOL', \n",
    "                                                       'Cauca': 'CAU', \n",
    "                                                       'Sucre': 'SUC', \n",
    "                                                       'Quindio': 'QUI', \n",
    "                                                       'Nariño': 'NAR', \n",
    "                                                       'Magdalena': 'MAG', \n",
    "                                                       'Casanare': 'CAS', \n",
    "                                                       'La Guajira': 'LAG', \n",
    "                                                       'Caquetá': 'CAQ', \n",
    "                                                       'Putumayo': 'PUT', \n",
    "                                                       'Chocó': 'CHO', \n",
    "                                                       'Arauca': 'ARA', \n",
    "                                                       'Archipiélago de San Andrés, Providencia y Santa Catalina': 'SAP', \n",
    "                                                       'Amazonas': 'AMA', \n",
    "                                                       'Guaviare': 'GUV', \n",
    "                                                       'Guainía': 'GUA', \n",
    "                                                       'Vichada': 'VIC', \n",
    "                                                       'Vaupés': 'VAU'}, inplace=True)"
   ]
  },
  {
   "cell_type": "code",
   "execution_count": null,
   "id": "5d4fad42",
   "metadata": {},
   "outputs": [],
   "source": [
    "# Definir las olas de COVID-19\n",
    "waves = {\n",
    "    'Wave 1': ('2020-02-26', '2020-09-25'),\n",
    "    'Wave 2': ('2020-11-01', '2021-03-01'),\n",
    "    'Wave 3': ('2021-03-01', '2021-09-14'),\n",
    "    'Wave 4': ('2021-11-20', '2022-03-24')\n",
    "}\n",
    "\n",
    "# Inicializar lista para guardar los resultados\n",
    "results = []\n",
    "conteos = []\n",
    "\n",
    "# Iterar por cada departamento\n",
    "for departamento in df_sivigila346_v2['DepartamentoNotificacion'].unique():\n",
    "    # Seleccionar los datos por departamento\n",
    "    df_dep = df_sivigila346_v2[df_sivigila346_v2['DepartamentoNotificacion'] == departamento].copy()\n",
    "    \n",
    "    # Convertir las fechas a formato 'datetime'\n",
    "    df_dep['FechaInicioSintomas'] = pd.to_datetime(df_dep['FechaInicioSintomas'].astype(int), format='%Y%m%d')\n",
    "    df_dep['FechaDefuncion'] = pd.to_datetime(df_dep['FechaDefuncion'].astype(int), format='%Y%m%d')\n",
    "    df_dep['FechaNotificacion'] = pd.to_datetime(df_dep['FechaNotificacion'].astype(int), format='%Y%m%d')\n",
    "    \n",
    "    # Eliminar fechas de defunción erróneas\n",
    "    df_dep = df_dep[df_dep['FechaDefuncion'] != '19000101']\n",
    "    \n",
    "    # ============================================\n",
    "    # Descartar los casos donde el ID es igual a 1\n",
    "    # ============================================\n",
    "    df_dep = df_dep[df_dep['PersonaBasicaID'] != '1']\n",
    "    \n",
    "    # Cálculo de 'Onset_death' en días\n",
    "    df_dep['Onset_death'] = (df_dep['FechaDefuncion'] - df_dep['FechaInicioSintomas']).dt.days\n",
    "    \n",
    "    # Calcular promedio de 'Onset_death' por olas\n",
    "    for wave, (inicio, fin) in waves.items():\n",
    "        filtro = (df_dep['FechaNotificacion'] >= inicio) & (df_dep['FechaNotificacion'] <= fin)\n",
    "        promedio = df_dep.loc[filtro, 'Onset_death'].mean()\n",
    "        results.append({\n",
    "            'Departamento': departamento,\n",
    "            'Wave': wave,\n",
    "            'MeanDelay': promedio\n",
    "        })\n",
    "        conteos.append({\n",
    "            'Departamento': departamento,\n",
    "            'Wave': wave,\n",
    "            'Registros': len(df_dep.loc[filtro, 'Onset_death'])\n",
    "        })"
   ]
  },
  {
   "cell_type": "code",
   "execution_count": null,
   "id": "ceac5d36",
   "metadata": {},
   "outputs": [],
   "source": [
    "# Crear un DataFrame con los resultados\n",
    "df_results = pd.DataFrame(results)\n",
    "pivot_table = df_results.pivot(index=\"Departamento\", columns=\"Wave\", values=\"MeanDelay\")\n",
    "\n",
    "df_conteos = pd.DataFrame(conteos)\n",
    "tabla_conteos = df_conteos.pivot(index=\"Departamento\", columns=\"Wave\", values=\"Registros\")"
   ]
  },
  {
   "cell_type": "code",
   "execution_count": null,
   "id": "bc9feef3",
   "metadata": {},
   "outputs": [],
   "source": [
    "tabla_conteos"
   ]
  },
  {
   "cell_type": "code",
   "execution_count": null,
   "id": "8a086688",
   "metadata": {},
   "outputs": [],
   "source": [
    "# Grafica heatmap\n",
    "plt.figure(figsize=(3, len(pivot_table)*0.25)) \n",
    "sns.heatmap(pivot_table, \n",
    "            annot=True, \n",
    "            cmap=\"coolwarm\", #RdYlGr coolwarm summer\n",
    "            fmt=\".2f\",\n",
    "            annot_kws={\"size\": 8})\n",
    "plt.title(\"Avg Delay from\\n Onset to Death\", fontsize=12)\n",
    "plt.xlabel(\"\")\n",
    "plt.xticks(rotation=60)\n",
    "plt.ylabel(\"Department\")\n",
    "plt.tight_layout()\n",
    "plt.show()"
   ]
  },
  {
   "cell_type": "code",
   "execution_count": null,
   "id": "a9da3a9c",
   "metadata": {},
   "outputs": [],
   "source": [
    "plt.figure(figsize=(6, 5))\n",
    "sns.boxplot(x='Wave', y='MeanDelay', data=df_results, palette=\"Set3\", hue='Wave', legend=False, showfliers=False)\n",
    "sns.swarmplot(x='Wave', y='MeanDelay', data=df_results, color=\".25\")\n",
    "plt.title(\"Onset to Death\")\n",
    "plt.xlabel(\"\")\n",
    "plt.ylabel(\"Avg value of delay time (Days)\")\n",
    "plt.tight_layout()\n",
    "plt.show()"
   ]
  },
  {
   "cell_type": "markdown",
   "id": "2aac26b4",
   "metadata": {},
   "source": [
    "---\n",
    "---\n",
    "---\n",
    "## Análisis para todos los departamentos POR REGIONES"
   ]
  },
  {
   "cell_type": "code",
   "execution_count": null,
   "id": "cd06cead",
   "metadata": {},
   "outputs": [],
   "source": [
    "df_sivigila346_v2 = df_sivigila346[df_sivigila346['DepartamentoNotificacion'] != 'NO REPORTADO'].copy()"
   ]
  },
  {
   "cell_type": "code",
   "execution_count": null,
   "id": "f89d90c3",
   "metadata": {},
   "outputs": [],
   "source": [
    "# https://dgn.isolutions.iso.org/obp/ui#iso:code:3166:CO\n",
    "df_sivigila346_v2['DepartamentoNotificacion'].replace({'Bogotá, D.C.': 'DC', \n",
    "                                                       'Antioquia': 'ANT', \n",
    "                                                       'Valle del Cauca': 'VAC', \n",
    "                                                       'Cundinamarca': 'CUN', \n",
    "                                                       'Santander': 'SAN', \n",
    "                                                       'Atlántico': 'ATL', \n",
    "                                                       'Boyacá': 'BOY', \n",
    "                                                       'Norte de Santander': 'NSA', \n",
    "                                                       'Córdoba': 'COR', \n",
    "                                                       'Tolima': 'TOL', \n",
    "                                                       'Caldas': 'CAL', \n",
    "                                                       'Cesar': 'CES', \n",
    "                                                       'Meta': 'MET', \n",
    "                                                       'Risaralda': 'RIS', \n",
    "                                                       'Huila': 'HUI', \n",
    "                                                       'Bolívar': 'BOL', \n",
    "                                                       'Cauca': 'CAU', \n",
    "                                                       'Sucre': 'SUC', \n",
    "                                                       'Quindio': 'QUI', \n",
    "                                                       'Nariño': 'NAR', \n",
    "                                                       'Magdalena': 'MAG', \n",
    "                                                       'Casanare': 'CAS', \n",
    "                                                       'La Guajira': 'LAG', \n",
    "                                                       'Caquetá': 'CAQ', \n",
    "                                                       'Putumayo': 'PUT', \n",
    "                                                       'Chocó': 'CHO', \n",
    "                                                       'Arauca': 'ARA', \n",
    "                                                       'Archipiélago de San Andrés, Providencia y Santa Catalina': 'SAP', \n",
    "                                                       'Amazonas': 'AMA', \n",
    "                                                       'Guaviare': 'GUV', \n",
    "                                                       'Guainía': 'GUA', \n",
    "                                                       'Vichada': 'VIC', \n",
    "                                                       'Vaupés': 'VAU'}, inplace=True)"
   ]
  },
  {
   "cell_type": "code",
   "execution_count": null,
   "id": "3410ef1f",
   "metadata": {},
   "outputs": [],
   "source": [
    "def classify_region(department):\n",
    "    region_map = {\n",
    "        \"Amazónica\": [\"AMA\", \"CAQ\", \"GUA\", \"GUV\", \"PUT\", \"VAU\"],\n",
    "        \"Andina\": [\"ANT\", \"BOY\", \"CAL\", \"CUN\", \"DC\", \"HUI\", \"NSA\", \"QUI\", \"RIS\", \"SAN\", \"TOL\"],\n",
    "        \"Pacífica\": [\"VAC\", \"CHO\", \"CAU\", \"NAR\"],\n",
    "        \"Caribe e Insular\": [\"ATL\", \"BOL\", \"CES\", \"COR\", \"LAG\", \"MAG\", \"SUC\", \"SAP\"],\n",
    "        \"Orinoquía\": [\"ARA\", \"CAS\", \"MET\", \"VIC\"]\n",
    "    }\n",
    "    \n",
    "    for region, departments in region_map.items():\n",
    "        if department in departments:\n",
    "            return region\n",
    "    return \"Desconocido\"  # En caso de que haya códigos no contemplados\n",
    "\n",
    "# Aplicar la función a la columna DepartamentoNotificacion\n",
    "df_sivigila346_v2[\"Region\"] = df_sivigila346_v2[\"DepartamentoNotificacion\"].apply(classify_region)"
   ]
  },
  {
   "cell_type": "code",
   "execution_count": null,
   "id": "74286849",
   "metadata": {},
   "outputs": [],
   "source": [
    "# Definir las olas de COVID-19\n",
    "waves = {\n",
    "    'Wave 1': ('2020-02-26', '2020-09-25'),\n",
    "    'Wave 2': ('2020-11-01', '2021-03-01'),\n",
    "    'Wave 3': ('2021-03-01', '2021-09-14'),\n",
    "    'Wave 4': ('2021-11-20', '2022-03-24')\n",
    "}\n",
    "\n",
    "# Inicializar lista para guardar los resultados\n",
    "results = []\n",
    "conteos = []\n",
    "\n",
    "# Iterar por cada departamento\n",
    "for region in df_sivigila346_v2['Region'].unique():\n",
    "    # Seleccionar los datos por departamento\n",
    "    df_reg = df_sivigila346_v2[df_sivigila346_v2['Region'] == region].copy()\n",
    "    \n",
    "    # Convertir las fechas a formato 'datetime'\n",
    "    df_reg['FechaInicioSintomas'] = pd.to_datetime(df_reg['FechaInicioSintomas'].astype(int), format='%Y%m%d')\n",
    "    df_reg['FechaDefuncion'] = pd.to_datetime(df_reg['FechaDefuncion'].astype(int), format='%Y%m%d')\n",
    "    df_reg['FechaNotificacion'] = pd.to_datetime(df_reg['FechaNotificacion'].astype(int), format='%Y%m%d')\n",
    "    \n",
    "    # Eliminar fechas de defunción erróneas\n",
    "    df_reg = df_reg[df_reg['FechaDefuncion'] != '19000101']\n",
    "    \n",
    "    # ============================================\n",
    "    # Descartar los casos donde el ID es igual a 1\n",
    "    # ============================================\n",
    "    df_reg = df_reg[df_reg['PersonaBasicaID'] != '1']\n",
    "    \n",
    "    # Cálculo de 'Onset_death' en días\n",
    "    df_reg['Onset_death'] = (df_reg['FechaDefuncion'] - df_reg['FechaInicioSintomas']).dt.days\n",
    "    \n",
    "    # Calcular promedio de 'Onset_death' por olas\n",
    "    for wave, (inicio, fin) in waves.items():\n",
    "        filtro = (df_reg['FechaNotificacion'] >= inicio) & (df_reg['FechaNotificacion'] <= fin)\n",
    "        promedio = df_reg.loc[filtro, 'Onset_death'].mean()\n",
    "        results.append({\n",
    "            'Region': region,\n",
    "            'Wave': wave,\n",
    "            'MeanDelay': promedio\n",
    "        })\n",
    "        conteos.append({\n",
    "            'Region': region,\n",
    "            'Wave': wave,\n",
    "            'Registros': len(df_reg.loc[filtro, 'Onset_death'])\n",
    "        })"
   ]
  },
  {
   "cell_type": "code",
   "execution_count": null,
   "id": "40640120",
   "metadata": {},
   "outputs": [],
   "source": [
    "# Crear un DataFrame con los resultados\n",
    "df_results = pd.DataFrame(results)\n",
    "pivot_table = df_results.pivot(index=\"Region\", columns=\"Wave\", values=\"MeanDelay\")\n",
    "\n",
    "df_conteos = pd.DataFrame(conteos)\n",
    "tabla_conteos = df_conteos.pivot(index=\"Region\", columns=\"Wave\", values=\"Registros\")"
   ]
  },
  {
   "cell_type": "code",
   "execution_count": null,
   "id": "ade7163d",
   "metadata": {},
   "outputs": [],
   "source": [
    "tabla_conteos"
   ]
  },
  {
   "cell_type": "code",
   "execution_count": null,
   "id": "847a4b1b",
   "metadata": {},
   "outputs": [],
   "source": [
    "# Gráfica\n",
    "plt.figure(figsize=(4, 3.5)) \n",
    "sns.heatmap(pivot_table, \n",
    "            annot=True, \n",
    "            cmap=\"coolwarm\", #RdYlGr coolwarm summer\n",
    "            fmt=\".2f\",\n",
    "            annot_kws={\"size\": 9})\n",
    "plt.title(\"Avg Delay from\\n Onset to Death\", fontsize=12)\n",
    "plt.xticks(rotation=45)\n",
    "plt.xlabel(\"\")\n",
    "plt.ylabel(\"\", fontsize=10)\n",
    "plt.tight_layout()\n",
    "plt.show()"
   ]
  },
  {
   "cell_type": "code",
   "execution_count": null,
   "id": "674f5d9d",
   "metadata": {},
   "outputs": [],
   "source": [
    "plt.figure(figsize=(6, 4))\n",
    "\n",
    "# Crear líneas para cada departamento\n",
    "for reg in pivot_table.index:\n",
    "    plt.plot(pivot_table.columns, pivot_table.loc[reg], marker='o', linestyle='-', label=reg)\n",
    "\n",
    "plt.title(\"Onset to Death\\nby Region & Wave\", fontsize=14)\n",
    "plt.xlabel(\"\")\n",
    "plt.ylabel('Avg value of delay time (Days)', fontsize=12)\n",
    "plt.legend(title=\"Region\", loc='upper right', fontsize=9, bbox_to_anchor=(1.34, 1.02)) \n",
    "plt.grid(True, linestyle='--', alpha=0.7)\n",
    "\n",
    "plt.show()"
   ]
  },
  {
   "cell_type": "code",
   "execution_count": null,
   "id": "4f713582",
   "metadata": {},
   "outputs": [],
   "source": [
    "plt.figure(figsize=(8, 4))\n",
    "\n",
    "num_regions = len(pivot_table)\n",
    "num_waves = len(pivot_table.columns)\n",
    "\n",
    "x = np.arange(num_regions)\n",
    "width = 0.15  \n",
    "\n",
    "# Barras\n",
    "colors = ['#6b6ca3', '#87bcbd', '#6f9954', '#b1615c']\n",
    "for i, wave in enumerate(pivot_table.columns):\n",
    "    plt.bar(x + i * width, pivot_table[wave], width=width, label=wave, color=colors[i])\n",
    "\n",
    "plt.xticks(x + width * (num_waves / 2 - 0.5), pivot_table.index, rotation=0, fontsize=9)\n",
    "plt.ylabel('Avg value of delay time (Days)')\n",
    "plt.title(\"Onset to Death\")\n",
    "plt.legend(title=\"COVID-19 Wave\", bbox_to_anchor=(1.25, 1.02))\n",
    "plt.yticks([0, 2.5, 5.0, 7.5, 10.0, 12.5, 15.0, 17.5, 20.0, 22.5, 25.0, 27.5])\n",
    "\n",
    "plt.tight_layout()\n",
    "plt.show()"
   ]
  },
  {
   "cell_type": "code",
   "execution_count": null,
   "id": "1407c081",
   "metadata": {},
   "outputs": [],
   "source": []
  }
 ],
 "metadata": {
  "kernelspec": {
   "display_name": "Python 3 (ipykernel)",
   "language": "python",
   "name": "python3"
  },
  "language_info": {
   "codemirror_mode": {
    "name": "ipython",
    "version": 3
   },
   "file_extension": ".py",
   "mimetype": "text/x-python",
   "name": "python",
   "nbconvert_exporter": "python",
   "pygments_lexer": "ipython3",
   "version": "3.9.18"
  }
 },
 "nbformat": 4,
 "nbformat_minor": 5
}
